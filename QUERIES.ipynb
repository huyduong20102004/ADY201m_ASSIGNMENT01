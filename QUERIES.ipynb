{
 "cells": [
  {
   "cell_type": "markdown",
   "metadata": {},
   "source": [
    "# Import library & Connect to databases"
   ]
  },
  {
   "cell_type": "code",
   "execution_count": 2,
   "metadata": {},
   "outputs": [],
   "source": [
    "import pyodbc\n",
    "import pandas as pd\n",
    "import matplotlib.pyplot as plt"
   ]
  },
  {
   "cell_type": "code",
   "execution_count": 3,
   "metadata": {},
   "outputs": [],
   "source": [
    "lab3_s = 'Driver={ODBC Driver 18 for SQL Server};Server=tcp:serverz.database.windows.net,1433;Database=DB_LAB03;Uid=tendangnhap;Pwd=Matkhau@123;Encrypt=yes;TrustServerCertificate=no;Connection Timeout=30;'\n",
    "assgmt1_s = 'Driver={ODBC Driver 18 for SQL Server};Server=tcp:serverz.database.windows.net,1433;Database=ASSIGNMENT_01;Uid=tendangnhap;Pwd=Matkhau@123;Encrypt=yes;TrustServerCertificate=no;Connection Timeout=30;'\n",
    "\n",
    "## Connect to the database\n",
    "conn_lab3 = pyodbc.connect(lab3_s)\n",
    "cursor_lab3 = conn_lab3.cursor()\n",
    "\n",
    "conn_assgmt1 = pyodbc.connect(assgmt1_s)\n",
    "cursor_assgmt1 = conn_assgmt1.cursor()"
   ]
  },
  {
   "cell_type": "markdown",
   "metadata": {},
   "source": [
    "# Queries"
   ]
  },
  {
   "cell_type": "markdown",
   "metadata": {},
   "source": [
    "## 1\n",
    "Problem 1: Find the total number of crimes recorded in the CRIME table."
   ]
  },
  {
   "cell_type": "code",
   "execution_count": 4,
   "metadata": {},
   "outputs": [
    {
     "name": "stderr",
     "output_type": "stream",
     "text": [
      "<ipython-input-4-31b6cf45f213>:5: UserWarning: pandas only supports SQLAlchemy connectable (engine/connection) or database string URI or sqlite3 DBAPI2 connection. Other DBAPI2 objects are not tested. Please consider using SQLAlchemy.\n",
      "  df = pd.read_sql(query, conn_assgmt1)\n"
     ]
    },
    {
     "name": "stdout",
     "output_type": "stream",
     "text": [
      "   total_Crime\n",
      "0      8068562\n"
     ]
    }
   ],
   "source": [
    "# Read q1.sql\n",
    "with open('./SQL/q1.sql') as f:\n",
    "    query = f.read()\n",
    "\n",
    "df = pd.read_sql(query, conn_assgmt1)\n",
    "df.to_csv('./assets/data/Output/1.csv', index=False)\n",
    "print(df)"
   ]
  },
  {
   "cell_type": "markdown",
   "metadata": {},
   "source": [
    "## 2\n",
    "Problem 2: List community areas with per capita income less than 11000."
   ]
  },
  {
   "cell_type": "code",
   "execution_count": 5,
   "metadata": {},
   "outputs": [
    {
     "name": "stdout",
     "output_type": "stream",
     "text": [
      "  COMMUNITY_AREA_NAME  Per_Capita_Income\n",
      "0  West Garfield Park              10934\n",
      "1      South Lawndale              10402\n",
      "2         Fuller Park              10432\n",
      "3           Riverdale               8201\n"
     ]
    },
    {
     "name": "stderr",
     "output_type": "stream",
     "text": [
      "<ipython-input-5-c47136c9715a>:5: UserWarning: pandas only supports SQLAlchemy connectable (engine/connection) or database string URI or sqlite3 DBAPI2 connection. Other DBAPI2 objects are not tested. Please consider using SQLAlchemy.\n",
      "  df = pd.read_sql(query, conn_assgmt1)\n"
     ]
    }
   ],
   "source": [
    "# Read q2.sql\n",
    "with open('./SQL/q2.sql') as f:\n",
    "    query = f.read()\n",
    "\n",
    "df = pd.read_sql(query, conn_assgmt1)\n",
    "df.to_csv('./assets/data/Output/2.csv', index=False)\n",
    "print(df)"
   ]
  },
  {
   "cell_type": "markdown",
   "metadata": {},
   "source": [
    "## 3\n",
    "Problem 3: List all case numbers for crimes involving minors?\n"
   ]
  },
  {
   "cell_type": "code",
   "execution_count": 5,
   "metadata": {},
   "outputs": [
    {
     "name": "stderr",
     "output_type": "stream",
     "text": [
      "<ipython-input-5-06b165952e95>:5: UserWarning: pandas only supports SQLAlchemy connectable (engine/connection) or database string URI or sqlite3 DBAPI2 connection. Other DBAPI2 objects are not tested. Please consider using SQLAlchemy.\n",
      "  df = pd.read_sql(query, conn_assgmt1)\n"
     ]
    },
    {
     "name": "stdout",
     "output_type": "stream",
     "text": [
      "      Case_Number                                        Description\n",
      "0         G023284                             MINOR MISREPRESENT AGE\n",
      "1         G039724  AGGRAVATED P.O. - HANDS, FISTS, FEET, NO / MIN...\n",
      "2         G048693  AGGRAVATED - HANDS, FISTS, FEET, NO / MINOR IN...\n",
      "3         G048567  AGGRAVATED - HANDS, FISTS, FEET, NO / MINOR IN...\n",
      "4         G046709  AGGRAVATED - HANDS, FISTS, FEET, NO / MINOR IN...\n",
      "...           ...                                                ...\n",
      "67529    JF169148  PROTECTED EMPLOYEE - HANDS, FISTS, FEET, NO / ...\n",
      "67530    JF169097  PROTECTED EMPLOYEE - HANDS, FISTS, FEET, NO / ...\n",
      "67531    JF169248  AGGRAVATED - HANDS, FISTS, FEET, NO / MINOR IN...\n",
      "67532    JF169309  PROTECTED EMPLOYEE - HANDS, FISTS, FEET, NO / ...\n",
      "67533    JF169661  PROTECTED EMPLOYEE - HANDS, FISTS, FEET, NO / ...\n",
      "\n",
      "[67534 rows x 2 columns]\n"
     ]
    }
   ],
   "source": [
    "# Read q3.sql\n",
    "with open('./SQL/q3.sql') as f:\n",
    "    query = f.read()\n",
    "\n",
    "df = pd.read_sql(query, conn_assgmt1)\n",
    "df.to_csv('./assets/data/Output/3.csv', index=False)\n",
    "print(df)"
   ]
  },
  {
   "cell_type": "markdown",
   "metadata": {},
   "source": [
    "## 4\n",
    "Problem 4: List all kidnapping crimes involving a child?(children are not considered minors for the purposes of crime analysis)\n"
   ]
  },
  {
   "cell_type": "code",
   "execution_count": 6,
   "metadata": {},
   "outputs": [
    {
     "name": "stderr",
     "output_type": "stream",
     "text": [
      "<ipython-input-6-701ba6484a36>:5: UserWarning: pandas only supports SQLAlchemy connectable (engine/connection) or database string URI or sqlite3 DBAPI2 connection. Other DBAPI2 objects are not tested. Please consider using SQLAlchemy.\n",
      "  df = pd.read_sql(query, conn_assgmt1)\n"
     ]
    },
    {
     "name": "stdout",
     "output_type": "stream",
     "text": [
      "     Case_Number                 Description Primary_Type\n",
      "0        G047076  CHILD ABDUCTION / STRANGER   KIDNAPPING\n",
      "1        G049973  CHILD ABDUCTION / STRANGER   KIDNAPPING\n",
      "2        G053523  CHILD ABDUCTION / STRANGER   KIDNAPPING\n",
      "3        G053218  CHILD ABDUCTION / STRANGER   KIDNAPPING\n",
      "4        G053248  CHILD ABDUCTION / STRANGER   KIDNAPPING\n",
      "...          ...                         ...          ...\n",
      "2583    JF501161  CHILD ABDUCTION / STRANGER   KIDNAPPING\n",
      "2584    JF501285  CHILD ABDUCTION / STRANGER   KIDNAPPING\n",
      "2585    JF519025  CHILD ABDUCTION / STRANGER   KIDNAPPING\n",
      "2586    JH118852  CHILD ABDUCTION / STRANGER   KIDNAPPING\n",
      "2587    JH125436  CHILD ABDUCTION / STRANGER   KIDNAPPING\n",
      "\n",
      "[2588 rows x 3 columns]\n"
     ]
    }
   ],
   "source": [
    "# Read q4.sql\n",
    "with open('./SQL/q4.sql') as f:\n",
    "    query = f.read()\n",
    "\n",
    "df = pd.read_sql(query, conn_assgmt1)\n",
    "df.to_csv('./assets/data/Output/4.csv', index=False)\n",
    "print(df)"
   ]
  },
  {
   "cell_type": "markdown",
   "metadata": {},
   "source": [
    "## 5\n",
    "Problem 5: What kind of crimes were recorded at schools?\n"
   ]
  },
  {
   "cell_type": "code",
   "execution_count": 7,
   "metadata": {},
   "outputs": [
    {
     "name": "stderr",
     "output_type": "stream",
     "text": [
      "<ipython-input-7-8fed17307f84>:5: UserWarning: pandas only supports SQLAlchemy connectable (engine/connection) or database string URI or sqlite3 DBAPI2 connection. Other DBAPI2 objects are not tested. Please consider using SQLAlchemy.\n",
      "  df = pd.read_sql(query, conn_assgmt1)\n"
     ]
    },
    {
     "name": "stdout",
     "output_type": "stream",
     "text": [
      "                          Primary_Type                       Description  \\\n",
      "0                              BATTERY           DOMESTIC BATTERY SIMPLE   \n",
      "1                   DECEPTIVE PRACTICE                       BOGUS CHECK   \n",
      "2                    CRIMINAL TRESPASS                        TO VEHICLE   \n",
      "3                        OTHER OFFENSE                  TELEPHONE THREAT   \n",
      "4                    WEAPONS VIOLATION  UNLAWFUL POSSESSION - AMMUNITION   \n",
      "...                                ...                               ...   \n",
      "1350                         OBSCENITY                         OBSCENITY   \n",
      "1351                          GAMBLING                 BOOKMAKING/HORSES   \n",
      "1352  INTERFERENCE WITH PUBLIC OFFICER     INTERFERENCE JUDICIAL PROCESS   \n",
      "1353                          STALKING                     CYBERSTALKING   \n",
      "1354               MOTOR VEHICLE THEFT       ATT: TRUCK, BUS, MOTOR HOME   \n",
      "\n",
      "           Location_Description  \n",
      "0     SCHOOL, PRIVATE, BUILDING  \n",
      "1      SCHOOL, PRIVATE, GROUNDS  \n",
      "2      SCHOOL, PRIVATE, GROUNDS  \n",
      "3      SCHOOL - PUBLIC BUILDING  \n",
      "4      SCHOOL - PUBLIC BUILDING  \n",
      "...                         ...  \n",
      "1350    SCHOOL, PUBLIC, GROUNDS  \n",
      "1351   SCHOOL, PUBLIC, BUILDING  \n",
      "1352    SCHOOL - PUBLIC GROUNDS  \n",
      "1353  SCHOOL, PRIVATE, BUILDING  \n",
      "1354   SCHOOL, PRIVATE, GROUNDS  \n",
      "\n",
      "[1355 rows x 3 columns]\n"
     ]
    }
   ],
   "source": [
    "# Read q5.sql\n",
    "with open('./SQL/q5.sql') as f:\n",
    "    query = f.read()\n",
    "\n",
    "df = pd.read_sql(query, conn_assgmt1)\n",
    "df.to_csv('./assets/data/Output/5.csv', index=False)\n",
    "print(df)"
   ]
  },
  {
   "cell_type": "markdown",
   "metadata": {},
   "source": [
    "## 6\n",
    "Problem 6: List the average safety score for all types of schools."
   ]
  },
  {
   "cell_type": "code",
   "execution_count": 4,
   "metadata": {},
   "outputs": [
    {
     "name": "stdout",
     "output_type": "stream",
     "text": [
      "  School_Type  avg_safety_score\n",
      "0          ES                49\n",
      "1          HS                49\n",
      "2          MS                48\n"
     ]
    },
    {
     "name": "stderr",
     "output_type": "stream",
     "text": [
      "<ipython-input-4-5b1772692310>:5: UserWarning: pandas only supports SQLAlchemy connectable (engine/connection) or database string URI or sqlite3 DBAPI2 connection. Other DBAPI2 objects are not tested. Please consider using SQLAlchemy.\n",
      "  df = pd.read_sql(query, conn_lab3)\n"
     ]
    }
   ],
   "source": [
    "# Read q6.sql\n",
    "with open('./SQL/q6.sql') as f:\n",
    "    query = f.read()\n",
    "\n",
    "df = pd.read_sql(query, conn_lab3)\n",
    "df.to_csv('./assets/data/Output/6.csv', index=False)\n",
    "print(df)"
   ]
  },
  {
   "cell_type": "markdown",
   "metadata": {},
   "source": [
    "## 7\n",
    "Problem 7: List 5 community areas with highest % of households below poverty line."
   ]
  },
  {
   "cell_type": "code",
   "execution_count": 5,
   "metadata": {},
   "outputs": [
    {
     "name": "stdout",
     "output_type": "stream",
     "text": [
      "   Community_Area_Number COMMUNITY_AREA_NAME  Households_Below_Poverty_Percent\n",
      "0                     54           Riverdale                              56.5\n",
      "1                     37         Fuller Park                              51.2\n",
      "2                     68           Englewood                              46.6\n",
      "3                     29      North Lawndale                              43.1\n",
      "4                     27  East Garfield Park                              42.4\n"
     ]
    },
    {
     "name": "stderr",
     "output_type": "stream",
     "text": [
      "<ipython-input-5-6aefa7bd41aa>:5: UserWarning: pandas only supports SQLAlchemy connectable (engine/connection) or database string URI or sqlite3 DBAPI2 connection. Other DBAPI2 objects are not tested. Please consider using SQLAlchemy.\n",
      "  df = pd.read_sql(query, conn_assgmt1)\n"
     ]
    }
   ],
   "source": [
    "# Read q7.sql\n",
    "with open('./SQL/q7.sql') as f:\n",
    "    query = f.read()\n",
    "\n",
    "df = pd.read_sql(query, conn_assgmt1)\n",
    "df.to_csv('./assets/data/Output/7.csv', index=False)\n",
    "print(df)"
   ]
  },
  {
   "cell_type": "markdown",
   "metadata": {},
   "source": [
    "## 8\n",
    "Problem 8: Which community area(number) is most crime prone?"
   ]
  },
  {
   "cell_type": "code",
   "execution_count": 7,
   "metadata": {},
   "outputs": [
    {
     "name": "stderr",
     "output_type": "stream",
     "text": [
      "<ipython-input-7-0844a4b6b84c>:5: UserWarning: pandas only supports SQLAlchemy connectable (engine/connection) or database string URI or sqlite3 DBAPI2 connection. Other DBAPI2 objects are not tested. Please consider using SQLAlchemy.\n",
      "  df = pd.read_sql(query, conn_assgmt1)\n"
     ]
    },
    {
     "name": "stdout",
     "output_type": "stream",
     "text": [
      "   THE_MOST_CRIME_PRONE_AREA_NUMBER\n",
      "0                                25\n"
     ]
    }
   ],
   "source": [
    "# Read q8.sql\n",
    "with open('./SQL/q8.sql') as f:\n",
    "    query = f.read()\n",
    "\n",
    "df = pd.read_sql(query, conn_assgmt1)\n",
    "df.to_csv('./assets/data/Output/8.csv', index=False)\n",
    "print(df)"
   ]
  },
  {
   "cell_type": "code",
   "execution_count": 10,
   "metadata": {},
   "outputs": [
    {
     "name": "stderr",
     "output_type": "stream",
     "text": [
      "<ipython-input-10-b78375fc6e24>:6: UserWarning: pandas only supports SQLAlchemy connectable (engine/connection) or database string URI or sqlite3 DBAPI2 connection. Other DBAPI2 objects are not tested. Please consider using SQLAlchemy.\n",
      "  count_crime_by_community_area = pd.read_sql(query,conn_assgmt1)\n"
     ]
    }
   ],
   "source": [
    "# population by community area\n",
    "population = pd.read_csv('./assets/data/Cleaned/Cencus/population.csv')\n",
    "\n",
    "with open('./SQL/q8_optimize.sql') as f:\n",
    "    query = f.read()\n",
    "count_crime_by_community_area = pd.read_sql(query,conn_assgmt1)\n"
   ]
  },
  {
   "cell_type": "code",
   "execution_count": 15,
   "metadata": {},
   "outputs": [
    {
     "data": {
      "text/html": [
       "<div>\n",
       "<style scoped>\n",
       "    .dataframe tbody tr th:only-of-type {\n",
       "        vertical-align: middle;\n",
       "    }\n",
       "\n",
       "    .dataframe tbody tr th {\n",
       "        vertical-align: top;\n",
       "    }\n",
       "\n",
       "    .dataframe thead th {\n",
       "        text-align: right;\n",
       "    }\n",
       "</style>\n",
       "<table border=\"1\" class=\"dataframe\">\n",
       "  <thead>\n",
       "    <tr style=\"text-align: right;\">\n",
       "      <th></th>\n",
       "      <th>Community_Area</th>\n",
       "      <th>population</th>\n",
       "      <th>Count</th>\n",
       "      <th>rate</th>\n",
       "    </tr>\n",
       "  </thead>\n",
       "  <tbody>\n",
       "    <tr>\n",
       "      <th>0</th>\n",
       "      <td>1</td>\n",
       "      <td>54991</td>\n",
       "      <td>115617</td>\n",
       "      <td>0.087603</td>\n",
       "    </tr>\n",
       "    <tr>\n",
       "      <th>1</th>\n",
       "      <td>2</td>\n",
       "      <td>71942</td>\n",
       "      <td>95976</td>\n",
       "      <td>0.055586</td>\n",
       "    </tr>\n",
       "    <tr>\n",
       "      <th>2</th>\n",
       "      <td>3</td>\n",
       "      <td>56362</td>\n",
       "      <td>109669</td>\n",
       "      <td>0.081075</td>\n",
       "    </tr>\n",
       "    <tr>\n",
       "      <th>3</th>\n",
       "      <td>4</td>\n",
       "      <td>39493</td>\n",
       "      <td>53493</td>\n",
       "      <td>0.056437</td>\n",
       "    </tr>\n",
       "    <tr>\n",
       "      <th>4</th>\n",
       "      <td>5</td>\n",
       "      <td>31867</td>\n",
       "      <td>43673</td>\n",
       "      <td>0.057103</td>\n",
       "    </tr>\n",
       "  </tbody>\n",
       "</table>\n",
       "</div>"
      ],
      "text/plain": [
       "   Community_Area  population   Count      rate\n",
       "0               1       54991  115617  0.087603\n",
       "1               2       71942   95976  0.055586\n",
       "2               3       56362  109669  0.081075\n",
       "3               4       39493   53493  0.056437\n",
       "4               5       31867   43673  0.057103"
      ]
     },
     "execution_count": 15,
     "metadata": {},
     "output_type": "execute_result"
    }
   ],
   "source": [
    "# join population and count_crime_by_community_area left on Community Area Number right on Community_Area\n",
    "population = population.rename(columns={'Community Area Number':'Community_Area'})\n",
    "df = pd.merge(population, count_crime_by_community_area, on='Community_Area', how='left')\n",
    "\n",
    "# rate = count_crime/population\n",
    "df['rate'] = df['Count']/df['population']/24\n",
    "\n",
    "features = ['Community_Area','population','Count','rate']\n",
    "\n",
    "df = df[features]\n",
    "df.head()"
   ]
  },
  {
   "cell_type": "code",
   "execution_count": 18,
   "metadata": {},
   "outputs": [
    {
     "data": {
      "text/html": [
       "<div>\n",
       "<style scoped>\n",
       "    .dataframe tbody tr th:only-of-type {\n",
       "        vertical-align: middle;\n",
       "    }\n",
       "\n",
       "    .dataframe tbody tr th {\n",
       "        vertical-align: top;\n",
       "    }\n",
       "\n",
       "    .dataframe thead th {\n",
       "        text-align: right;\n",
       "    }\n",
       "</style>\n",
       "<table border=\"1\" class=\"dataframe\">\n",
       "  <thead>\n",
       "    <tr style=\"text-align: right;\">\n",
       "      <th></th>\n",
       "      <th>Community_Area</th>\n",
       "      <th>population</th>\n",
       "      <th>Count</th>\n",
       "      <th>rate</th>\n",
       "    </tr>\n",
       "  </thead>\n",
       "  <tbody>\n",
       "    <tr>\n",
       "      <th>36</th>\n",
       "      <td>37</td>\n",
       "      <td>2876</td>\n",
       "      <td>24529</td>\n",
       "      <td>0.355369</td>\n",
       "    </tr>\n",
       "    <tr>\n",
       "      <th>25</th>\n",
       "      <td>26</td>\n",
       "      <td>18001</td>\n",
       "      <td>139708</td>\n",
       "      <td>0.323380</td>\n",
       "    </tr>\n",
       "    <tr>\n",
       "      <th>26</th>\n",
       "      <td>27</td>\n",
       "      <td>20567</td>\n",
       "      <td>138607</td>\n",
       "      <td>0.280804</td>\n",
       "    </tr>\n",
       "    <tr>\n",
       "      <th>39</th>\n",
       "      <td>40</td>\n",
       "      <td>11717</td>\n",
       "      <td>78417</td>\n",
       "      <td>0.278858</td>\n",
       "    </tr>\n",
       "    <tr>\n",
       "      <th>31</th>\n",
       "      <td>32</td>\n",
       "      <td>29283</td>\n",
       "      <td>186916</td>\n",
       "      <td>0.265962</td>\n",
       "    </tr>\n",
       "  </tbody>\n",
       "</table>\n",
       "</div>"
      ],
      "text/plain": [
       "    Community_Area  population   Count      rate\n",
       "36              37        2876   24529  0.355369\n",
       "25              26       18001  139708  0.323380\n",
       "26              27       20567  138607  0.280804\n",
       "39              40       11717   78417  0.278858\n",
       "31              32       29283  186916  0.265962"
      ]
     },
     "execution_count": 18,
     "metadata": {},
     "output_type": "execute_result"
    }
   ],
   "source": [
    "# Sort by rate\n",
    "df = df.sort_values(by='rate', ascending=False)\n",
    "\n",
    "df.head().to_csv('./assets/data/Output/8_optimize.csv', index=False)\n",
    "df.head()"
   ]
  },
  {
   "cell_type": "markdown",
   "metadata": {},
   "source": [
    "## 9\n",
    "Problem 9: Use a sub-query to find the name of the community area with highest hardship index."
   ]
  },
  {
   "cell_type": "code",
   "execution_count": 8,
   "metadata": {},
   "outputs": [
    {
     "name": "stdout",
     "output_type": "stream",
     "text": [
      "  COMMUNITY_AREA_NAME\n",
      "0           Riverdale\n"
     ]
    },
    {
     "name": "stderr",
     "output_type": "stream",
     "text": [
      "<ipython-input-8-6bbf03b7b1f5>:5: UserWarning: pandas only supports SQLAlchemy connectable (engine/connection) or database string URI or sqlite3 DBAPI2 connection. Other DBAPI2 objects are not tested. Please consider using SQLAlchemy.\n",
      "  df = pd.read_sql(query, conn_assgmt1)\n"
     ]
    }
   ],
   "source": [
    "# Read q9.sql\n",
    "with open('./SQL/q9.sql') as f:\n",
    "    query = f.read()\n",
    "\n",
    "df = pd.read_sql(query, conn_assgmt1)\n",
    "df.to_csv('./assets/data/Output/9.csv', index=False)\n",
    "print(df)"
   ]
  },
  {
   "cell_type": "markdown",
   "metadata": {},
   "source": [
    "## 10\n",
    "Problem 10: Use a sub-query to determine the Community Area Name with most number of crimes?"
   ]
  },
  {
   "cell_type": "code",
   "execution_count": 10,
   "metadata": {},
   "outputs": [
    {
     "name": "stderr",
     "output_type": "stream",
     "text": [
      "<ipython-input-10-c4ca813e8214>:5: UserWarning: pandas only supports SQLAlchemy connectable (engine/connection) or database string URI or sqlite3 DBAPI2 connection. Other DBAPI2 objects are not tested. Please consider using SQLAlchemy.\n",
      "  df = pd.read_sql(query, conn_assgmt1)\n"
     ]
    },
    {
     "name": "stdout",
     "output_type": "stream",
     "text": [
      "  COMMUNITY_AREA_NAME\n",
      "0              Austin\n"
     ]
    }
   ],
   "source": [
    "# Read q10.sql\n",
    "with open('./SQL/q10.sql') as f:\n",
    "    query = f.read()\n",
    "\n",
    "df = pd.read_sql(query, conn_assgmt1)\n",
    "df.to_csv('./assets/data/Output/10.csv', index=False)\n",
    "print(df)"
   ]
  }
 ],
 "metadata": {
  "kernelspec": {
   "display_name": "base",
   "language": "python",
   "name": "python3"
  },
  "language_info": {
   "codemirror_mode": {
    "name": "ipython",
    "version": 3
   },
   "file_extension": ".py",
   "mimetype": "text/x-python",
   "name": "python",
   "nbconvert_exporter": "python",
   "pygments_lexer": "ipython3",
   "version": "3.11.7"
  }
 },
 "nbformat": 4,
 "nbformat_minor": 2
}
